{
 "cells": [
  {
   "cell_type": "code",
   "execution_count": 1,
   "metadata": {},
   "outputs": [],
   "source": [
    "import pandas as pd\n",
    "import numpy as np"
   ]
  },
  {
   "cell_type": "code",
   "execution_count": 2,
   "metadata": {
    "scrolled": true
   },
   "outputs": [],
   "source": [
    "data=pd.read_csv(\"D:/ML_datasets/handwritten_digit_recog/train.csv\")\n",
    "#this data is a pandas dataframe.\n",
    "X=data.loc[0:4200,'pixel0':'pixel783']\n",
    "y=data.loc[0:4200,'label']"
   ]
  },
  {
   "cell_type": "code",
   "execution_count": 3,
   "metadata": {},
   "outputs": [],
   "source": [
    "from sklearn.model_selection import train_test_split\n",
    "x_train,x_test,y_train,y_test=train_test_split(X,y,test_size=0.3)"
   ]
  },
  {
   "cell_type": "code",
   "execution_count": 4,
   "metadata": {},
   "outputs": [
    {
     "name": "stderr",
     "output_type": "stream",
     "text": [
      "C:\\Users\\mansi\\Miniconda3\\envs\\tensorflow\\lib\\site-packages\\sklearn\\ensemble\\forest.py:246: FutureWarning: The default value of n_estimators will change from 10 in version 0.20 to 100 in 0.22.\n",
      "  \"10 in version 0.20 to 100 in 0.22.\", FutureWarning)\n"
     ]
    },
    {
     "name": "stdout",
     "output_type": "stream",
     "text": [
      "0.8754956383822363\n"
     ]
    }
   ],
   "source": [
    "from sklearn.ensemble import RandomForestClassifier\n",
    "from sklearn import metrics\n",
    "forest = RandomForestClassifier()\n",
    "forest.fit(x_train,y_train)\n",
    "y_pred = forest.predict(x_test)\n",
    "k = metrics.accuracy_score(y_test,y_pred)\n",
    "print (k)\n"
   ]
  },
  {
   "cell_type": "code",
   "execution_count": 5,
   "metadata": {},
   "outputs": [
    {
     "data": {
      "text/plain": [
       "<Figure size 640x480 with 1 Axes>"
      ]
     },
     "metadata": {},
     "output_type": "display_data"
    }
   ],
   "source": [
    "from sklearn.tree import DecisionTreeClassifier\n",
    "import matplotlib.pyplot as plt\n",
    "depths=range(1,30)\n",
    "scores=[]\n",
    "for d in depths:\n",
    "    dtree=DecisionTreeClassifier(max_depth=d)\n",
    "    dtree.fit(x_train,y_train)\n",
    "    y_pred=dtree.predict(x_test)\n",
    "    scores.append(metrics.accuracy_score(y_test,y_pred))\n",
    "    \n",
    "plt.plot(depths,scores)\n",
    "plt.xlabel(\"max_depth\")\n",
    "plt.ylabel(\"score\")\n",
    "plt.show()\n"
   ]
  },
  {
   "cell_type": "code",
   "execution_count": 6,
   "metadata": {},
   "outputs": [
    {
     "name": "stdout",
     "output_type": "stream",
     "text": [
      "0.7684377478191912\n"
     ]
    }
   ],
   "source": [
    "print(max(scores))"
   ]
  },
  {
   "cell_type": "code",
   "execution_count": 7,
   "metadata": {},
   "outputs": [
    {
     "name": "stdout",
     "output_type": "stream",
     "text": [
      "0.9103885804916733\n"
     ]
    }
   ],
   "source": [
    "from sklearn.svm import SVC \n",
    "modell=SVC(kernel='linear',C=1)\n",
    "modell.fit(x_train,y_train)\n",
    "y_pred=modell.predict(x_test)\n",
    "print(metrics.accuracy_score(y_test,y_pred))\n"
   ]
  },
  {
   "cell_type": "code",
   "execution_count": 8,
   "metadata": {},
   "outputs": [
    {
     "name": "stdout",
     "output_type": "stream",
     "text": [
      "0.9206978588421887\n",
      "0    1\n",
      "1    0\n",
      "2    1\n",
      "3    4\n",
      "4    0\n",
      "Name: label, dtype: int64\n",
      "[1 0 1 4 0]\n"
     ]
    }
   ],
   "source": [
    "from sklearn.neighbors import KNeighborsClassifier\n",
    "#k_range=range(1,30)\n",
    "#k_scores=[]\n",
    "#for k in k_range:\n",
    "knn=KNeighborsClassifier(n_neighbors=5)\n",
    "knn.fit(x_train,y_train)\n",
    "y_pred=knn.predict(x_test)\n",
    "    #k_scores.append(metrics.accuracy_score(y_test,y_pred))\n",
    "    \n",
    "#plt.plot(k_range,k_scores)\n",
    "#plt.show()\n",
    "#print(max(k_scores))\n",
    "print(metrics.accuracy_score(y_test,y_pred))\n",
    "print(y.head())\n",
    "print(knn.predict(X.head()))"
   ]
  }
 ],
 "metadata": {
  "kernelspec": {
   "display_name": "Python 3",
   "language": "python",
   "name": "python3"
  },
  "language_info": {
   "codemirror_mode": {
    "name": "ipython",
    "version": 3
   },
   "file_extension": ".py",
   "mimetype": "text/x-python",
   "name": "python",
   "nbconvert_exporter": "python",
   "pygments_lexer": "ipython3",
   "version": "3.6.8"
  }
 },
 "nbformat": 4,
 "nbformat_minor": 2
}
